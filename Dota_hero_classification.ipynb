{
  "nbformat": 4,
  "nbformat_minor": 0,
  "metadata": {
    "colab": {
      "name": "Dota_hero_classification.ipynb",
      "provenance": [],
      "collapsed_sections": []
    },
    "kernelspec": {
      "name": "python3",
      "display_name": "Python 3"
    },
    "language_info": {
      "name": "python"
    }
  },
  "cells": [
    {
      "cell_type": "code",
      "metadata": {
        "id": "n4Q-mdXHnMfd"
      },
      "source": [
        "import tensorflow as tf\n",
        "import pandas as pd\n",
        "import numpy as np"
      ],
      "execution_count": 4,
      "outputs": []
    },
    {
      "cell_type": "markdown",
      "metadata": {
        "id": "tVZHSZ6xog9j"
      },
      "source": [
        "Preparing the data"
      ]
    },
    {
      "cell_type": "code",
      "metadata": {
        "id": "-iv7u1vRs62h",
        "colab": {
          "base_uri": "https://localhost:8080/"
        },
        "outputId": "e34bee2f-6318-43a2-8209-9abce238ae35"
      },
      "source": [
        "dataset = pd.read_csv(\"/content/drive/MyDrive/Machine Learning/train.csv\")\n",
        "dataset = dataset.dropna()"
      ],
      "execution_count": 60,
      "outputs": [
        {
          "output_type": "stream",
          "text": [
            "/usr/local/lib/python3.7/dist-packages/IPython/core/interactiveshell.py:2718: DtypeWarning: Columns (102) have mixed types.Specify dtype option on import or set low_memory=False.\n",
            "  interactivity=interactivity, compiler=compiler, result=result)\n"
          ],
          "name": "stderr"
        }
      ]
    },
    {
      "cell_type": "code",
      "metadata": {
        "id": "qvMCsIcQzKw7"
      },
      "source": [
        "heroes = dataset[['r1_hero','r2_hero','r3_hero','r4_hero','r5_hero','d1_hero','d2_hero','d3_hero','d4_hero','d5_hero', 'radiant_win']]\n",
        "heroes.head()"
      ],
      "execution_count": null,
      "outputs": []
    },
    {
      "cell_type": "code",
      "metadata": {
        "id": "oBcMkH3DveUn"
      },
      "source": [
        "labels = dataset[['radiant_win']]"
      ],
      "execution_count": 62,
      "outputs": []
    },
    {
      "cell_type": "markdown",
      "metadata": {
        "id": "oyVw2Idmr0tA"
      },
      "source": [
        "Split the data into testing and training"
      ]
    },
    {
      "cell_type": "code",
      "metadata": {
        "id": "UCduKCC4vuCR"
      },
      "source": [
        "data_train = heroes.sample(frac=0.8, random_state=0)\n",
        "data_test = heroes.drop(data_train.index)"
      ],
      "execution_count": 63,
      "outputs": []
    },
    {
      "cell_type": "markdown",
      "metadata": {
        "id": "sHejWRsCrx5N"
      },
      "source": [
        "Since all the data is categorical, it needs to be vectorices into a binary vector"
      ]
    },
    {
      "cell_type": "code",
      "metadata": {
        "id": "9C3b8-i_tVNx"
      },
      "source": [
        "def vectorice_sequences(sequences):\n",
        "    results = np.zeros((len(sequences),113))\n",
        "\n",
        "    for i,sequence in enumerate(sequences):\n",
        "        results[i, sequence] = 1\n",
        "\n",
        "    return results\n",
        "\n",
        "def convert_data(df):\n",
        "    #creates a vector which has 226 values. The coordinates are a index is determined by the hero and team choice.\n",
        "    radiant = dataset[['r1_hero','r2_hero','r3_hero','r4_hero','r5_hero']]\n",
        "    dire = dataset[['d1_hero','d2_hero','d3_hero','d4_hero','d5_hero']]\n",
        " \n",
        "    dire = tf.convert_to_tensor(dire)\n",
        "    radiant = tf.convert_to_tensor(radiant)\n",
        "\n",
        "    radiant = vectorice_sequences(radiant)\n",
        "    dire = vectorice_sequences(dire)\n",
        "\n",
        "    data = tf.concat([dire, radiant], -1)\n",
        "    \n",
        "    return data\n",
        "\n",
        "\n",
        "data_train = convert_data(data_train)\n",
        "data_test = convert_data(data_test)"
      ],
      "execution_count": 64,
      "outputs": []
    },
    {
      "cell_type": "markdown",
      "metadata": {
        "id": "Ejy_Zk6urrcK"
      },
      "source": [
        "Split the labels from the training data"
      ]
    },
    {
      "cell_type": "code",
      "metadata": {
        "id": "3eVsWaOctkmU"
      },
      "source": [
        "labels_train = labels.sample(frac=0.8, random_state=0)\n",
        "labels_test = labels.drop(labels_train.index)"
      ],
      "execution_count": 65,
      "outputs": []
    },
    {
      "cell_type": "code",
      "metadata": {
        "id": "hsm1QXUptXRZ"
      },
      "source": [
        "def convert_labels(labels):\n",
        "\n",
        "    labels.loc[labels['radiant_win'] == True, 'radiant_win'] = 1\n",
        "    labels.loc[labels['radiant_win'] == False, 'radiant_win'] = 0\n",
        "\n",
        "    labels = np.squeeze(labels)\n",
        "\n",
        "    return labels \n",
        "\n",
        "#turn booleans to binary values\n",
        "labels_train = convert_labels(labels_train)\n",
        "labels_test = convert_labels(labels_test)\n",
        "\n",
        "labels_train = np.asarray(labels_train).astype('float32')\n",
        "labels_test = np.asarray(labels_test).astype('float32')"
      ],
      "execution_count": 66,
      "outputs": []
    },
    {
      "cell_type": "markdown",
      "metadata": {
        "id": "drjsB-8DojT_"
      },
      "source": [
        "Building, trainign and evaluating the model"
      ]
    },
    {
      "cell_type": "code",
      "metadata": {
        "id": "gLdSAKur12cD"
      },
      "source": [
        "from keras.models import Sequential\n",
        "from keras import models\n",
        "from keras import layers\n",
        "\n",
        "#build the model\n",
        "model = Sequential()\n",
        "model.add(layers.Dense(16,activation = 'relu', input_shape = (226,)))\n",
        "model.add(layers.Dense(32,activation = 'relu', input_shape = (226,)))\n",
        "\n",
        "model.add(layers.Dropout(.2))\n",
        "\n",
        "model.add(layers.Dense(64,activation = 'relu', input_shape = (226,)))\n",
        "model.add(layers.Dense(128,activation = 'relu', input_shape = (226,)))\n",
        "\n",
        "model.add(layers.Dense(1, activation= 'sigmoid'))\n",
        "\n",
        "model.compile(optimizer=tf.keras.optimizers.RMSprop(lr = 0.001),\n",
        "              loss='binary_crossentropy',\n",
        "              metrics = ['accuracy'])\n",
        "\n",
        "model.summary()"
      ],
      "execution_count": null,
      "outputs": []
    },
    {
      "cell_type": "markdown",
      "metadata": {
        "id": "4ngqZ--btZcr"
      },
      "source": [
        "Train the model..."
      ]
    },
    {
      "cell_type": "code",
      "metadata": {
        "id": "b8I2EzpgtkKS"
      },
      "source": [
        "history = model.fit(data_train,labels_train,epochs = 100, validation_split=0.2, verbose = 0 )"
      ],
      "execution_count": 57,
      "outputs": []
    },
    {
      "cell_type": "markdown",
      "metadata": {
        "id": "8_OxXXIIthVY"
      },
      "source": [
        "And evaluate it."
      ]
    },
    {
      "cell_type": "code",
      "metadata": {
        "colab": {
          "base_uri": "https://localhost:8080/"
        },
        "id": "kwld9p_ywQvP",
        "outputId": "d1f5efd0-5f43-41cf-eb1a-75fa64c9e07c"
      },
      "source": [
        "results = model.evaluate(data_test,labels_test)"
      ],
      "execution_count": 58,
      "outputs": [
        {
          "output_type": "stream",
          "text": [
            "467/467 [==============================] - 1s 1ms/step - loss: 0.7514 - accuracy: 0.5604\n"
          ],
          "name": "stdout"
        }
      ]
    },
    {
      "cell_type": "code",
      "metadata": {
        "id": "_4TzxWi7pc14"
      },
      "source": [
        "model.save(\"/content/drive/MyDrive/Machine Learning/Dota_model.h5\")"
      ],
      "execution_count": 45,
      "outputs": []
    }
  ]
}